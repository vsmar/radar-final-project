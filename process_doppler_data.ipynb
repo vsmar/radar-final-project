{
 "cells": [
  {
   "cell_type": "code",
   "execution_count": null,
   "id": "db74c902",
   "metadata": {},
   "outputs": [],
   "source": [
    "# Procedure for processing doppler data to extract velocity information\n",
    "# 1. Spectrogram\n",
    "# 2. Filter\n",
    "# 3. Get Doppler\n",
    "# 4. Discriminator (discriminate between noise and signal)\n",
    "# 5. Plot results"
   ]
  }
 ],
 "metadata": {
  "language_info": {
   "name": "python"
  }
 },
 "nbformat": 4,
 "nbformat_minor": 5
}
