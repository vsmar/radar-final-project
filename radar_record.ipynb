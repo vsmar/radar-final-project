{
 "cells": [
  {
   "cell_type": "code",
   "execution_count": null,
   "id": "98765805",
   "metadata": {},
   "outputs": [
    {
     "name": "stdout",
     "output_type": "stream",
     "text": [
      "Recording started at: 2025-05-29 17:39:06.047812\n",
      "Recording ended at: 2025-05-29 17:39:16.181303\n"
     ]
    }
   ],
   "source": [
    "import time\n",
    "import numpy as np\n",
    "import sounddevice as sd\n",
    "from scipy.io.wavfile import write\n",
    "from datetime import datetime\n",
    "import csv\n",
    "import os\n",
    "\n",
    "fs = 44100\n",
    "logfile = \"recording_log.csv\"\n",
    "\n",
    "def beep(beep_dur, beep_freq, trial):\n",
    "    if trial:\n",
    "        t = np.linspace(0, beep_dur, int(fs * beep_dur), False)\n",
    "        beep = 0.5 * np.sin(2 * np.pi * beep_freq * t)\n",
    "        sd.play(beep, samplerate=fs)\n",
    "        sd.wait()\n",
    "\n",
    "def sleep(seconds, trial):\n",
    "    if trial:\n",
    "        time.sleep(seconds)\n",
    "\n",
    "def log_to_csv(trial_name, start_time, end_time):\n",
    "    file_exists = os.path.isfile(logfile)\n",
    "    with open(logfile, mode='a', newline='') as f:\n",
    "        writer = csv.writer(f)\n",
    "        if not file_exists:\n",
    "            writer.writerow(['Trial Name', 'Start Time', 'End Time'])\n",
    "        writer.writerow([\n",
    "            trial_name,\n",
    "            start_time.strftime(\"%Y-%m-%d %H:%M:%S.%f\"),\n",
    "            end_time.strftime(\"%Y-%m-%d %H:%M:%S.%f\")\n",
    "        ])\n",
    "\n",
    "def safe_filename(name):\n",
    "    return \"\".join(c if c.isalnum() or c in (' ', '_', '-') else '_' for c in name).replace(\" \", \"_\") + \".wav\"\n",
    "\n",
    "# RUN ONLY FOR RECORDING WAVE FILES\n",
    "def get_wavfile(duration, trial, trial_name):\n",
    "    sleep(5, trial)\n",
    "\n",
    "    beep(0.5, 800, trial)\n",
    "    sleep(1, trial)\n",
    "    beep(0.5, 800, trial)\n",
    "    sleep(0.5, trial)\n",
    "    beep(0.5, 800, trial)\n",
    "    sleep(0.5, trial)\n",
    "    beep(1, 1200, trial)\n",
    "\n",
    "    start_time = datetime.now()\n",
    "    print(\"Recording started at:\", start_time.strftime(\"%Y-%m-%d %H:%M:%S.%f\"))\n",
    "\n",
    "    myrecording = sd.rec(int(duration * fs), samplerate=fs, channels=1)\n",
    "    sd.wait()\n",
    "\n",
    "    end_time = datetime.now()\n",
    "    print(\"Recording ended at:\", end_time.strftime(\"%Y-%m-%d %H:%M:%S.%f\"))\n",
    "\n",
    "    filename = safe_filename(trial_name)\n",
    "    filename = os.path.join('doppler_data_day2', filename)\n",
    "    write(filename, fs, myrecording)\n",
    "\n",
    "    log_to_csv(trial_name, start_time, end_time)\n",
    "\n",
    "    sleep(0.5, trial)\n",
    "    beep(1, 600, trial)\n",
    "\n",
    "# EX USE CASE\n",
    "duration = 10\n",
    "trial_name = \"Day 2 - Test Trial 1\"\n",
    "get_wavfile(duration, True, trial_name)\n"
   ]
  }
 ],
 "metadata": {
  "kernelspec": {
   "display_name": "base",
   "language": "python",
   "name": "python3"
  },
  "language_info": {
   "codemirror_mode": {
    "name": "ipython",
    "version": 3
   },
   "file_extension": ".py",
   "mimetype": "text/x-python",
   "name": "python",
   "nbconvert_exporter": "python",
   "pygments_lexer": "ipython3",
   "version": "3.9.13"
  }
 },
 "nbformat": 4,
 "nbformat_minor": 5
}
